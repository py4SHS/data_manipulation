{
 "cells": [
  {
   "cell_type": "markdown",
   "id": "7d5024fb",
   "metadata": {},
   "source": [
    "# Lab for data manipulation\n",
    "Required packages:\n",
    "\n",
    "- `pandas`\n",
    "- `seaborn`\n",
    "- `pandasql`"
   ]
  },
  {
   "cell_type": "code",
   "execution_count": null,
   "id": "c8d05ca8",
   "metadata": {},
   "outputs": [],
   "source": [
    "import pandas as pd\n",
    "import pandasql as ps"
   ]
  },
  {
   "cell_type": "markdown",
   "id": "0145cd98",
   "metadata": {},
   "source": [
    "## Loading datasets\n",
    "\n",
    "Pandas is able to load data from a wide range of format:\n",
    "- From RAM using dictionaries\n",
    "- From CSV files using `read_csv`\n",
    "- From XML files using `read_xml`\n",
    "- From HTML files using `read_html`\n",
    "..."
   ]
  },
  {
   "cell_type": "code",
   "execution_count": null,
   "id": "43e89546",
   "metadata": {},
   "outputs": [],
   "source": [
    "\n",
    "# Load data from CSV\n",
    "df = pd.read_csv(\"data/ship_flag.csv\")\n",
    "\n",
    "# Load data from RAM\n",
    "df = pd.DataFrame({\"column_1\": [1, 2, 3], \"column_2\": [2, 3, 1], \"column_3\": [\"value_1\", \"value_2\", \"value_2\"]}, index=[\"index_1\", \"index_2\", \"index_3\"])\n"
   ]
  },
  {
   "cell_type": "markdown",
   "id": "95b5fae2",
   "metadata": {},
   "source": [
    "**Exercice**: Load the two datasets in `data/ship_flag.csv` and in `data/ship_sunk.csv` and store them in the variable `ship_flag` and `ship_sunk`."
   ]
  },
  {
   "cell_type": "code",
   "execution_count": null,
   "id": "465144fa",
   "metadata": {},
   "outputs": [],
   "source": [
    "# load the two datasets\n",
    "ship_flag = pd.read_csv(\"data/ship_flag.csv\")\n",
    "ship_sunk = pd.read_csv(\"data/ship_sunk.csv\")"
   ]
  },
  {
   "cell_type": "code",
   "execution_count": null,
   "id": "316254c9",
   "metadata": {},
   "outputs": [],
   "source": [
    "\n",
    "# load everything for sqldf\n",
    "pysqldf = lambda q: sqldf(q, globals())"
   ]
  },
  {
   "cell_type": "markdown",
   "id": "4535f916",
   "metadata": {},
   "source": [
    "## Manipulate data using SQL"
   ]
  },
  {
   "cell_type": "code",
   "execution_count": null,
   "id": "68f3d94a",
   "metadata": {},
   "outputs": [],
   "source": [
    "# display ship_flag\n",
    "ps.sqldf(\"SELECT * FROM ship_flag\")"
   ]
  },
  {
   "cell_type": "code",
   "execution_count": null,
   "id": "1d5d8a5e",
   "metadata": {},
   "outputs": [],
   "source": [
    "# display ship_sunk\n",
    "ps.sqldf(\"SELECT * FROM ship_sunk\")"
   ]
  },
  {
   "cell_type": "code",
   "execution_count": null,
   "id": "a481026b",
   "metadata": {},
   "outputs": [],
   "source": [
    "# display only the rows for Year 1600\n",
    "ps.sqldf(\"SELECT * FROM ship_sunk where Year = 1600\")"
   ]
  },
  {
   "cell_type": "code",
   "execution_count": null,
   "id": "5c93bcd7",
   "metadata": {},
   "outputs": [],
   "source": [
    "ps.sqldf(\"\"\"SELECT ship_flag.Ship, ship_flag.Flag, ship_sunk.Coordinates\n",
    "         FROM ship_flag\n",
    "         INNER JOIN ship_sunk ON ship_flag.Ship = ship_sunk.Ship\"\"\")"
   ]
  },
  {
   "cell_type": "markdown",
   "id": "3f6af303",
   "metadata": {},
   "source": [
    "### Practice: Write the following SQL queries:\n",
    "\n",
    "1. show all the ship names\n",
    "2. show all the ships from Greece\n",
    "3. show all the ship flags of the ships that sunk in 2000"
   ]
  },
  {
   "cell_type": "code",
   "execution_count": null,
   "id": "f3cbc46c",
   "metadata": {},
   "outputs": [],
   "source": [
    "ps.sqldf(\"\"\"SELECT Ship from ship_flag\"\"\")"
   ]
  },
  {
   "cell_type": "code",
   "execution_count": null,
   "id": "eadf0d5e",
   "metadata": {},
   "outputs": [],
   "source": [
    "ps.sqldf(\"\"\"SELECT Ship from ship_flag where Flag='Greece'\"\"\")"
   ]
  },
  {
   "cell_type": "code",
   "execution_count": null,
   "id": "e8028cec",
   "metadata": {},
   "outputs": [],
   "source": [
    "ps.sqldf(\"\"\"SELECT ship_flag.Flag, ship_sunk.Year\n",
    "         FROM ship_flag\n",
    "         INNER JOIN ship_sunk ON ship_flag.Ship = ship_sunk.Ship\n",
    "         WHERE ship_sunk.Year=2000\"\"\")"
   ]
  },
  {
   "cell_type": "markdown",
   "id": "0fa7f496",
   "metadata": {},
   "source": [
    "## Useful SQL commands"
   ]
  },
  {
   "cell_type": "code",
   "execution_count": null,
   "id": "f5626ea6",
   "metadata": {},
   "outputs": [],
   "source": [
    "# show all flags in the DB with no duplicates\n",
    "ps.sqldf(\"\"\"SELECT DISTINCT Flag FROM ship_flag\"\"\")"
   ]
  },
  {
   "cell_type": "code",
   "execution_count": null,
   "id": "098e9ee3",
   "metadata": {},
   "outputs": [],
   "source": [
    "# show all flags in the DB with no duplicates sorted alphabeticly\n",
    "ps.sqldf(\"\"\"SELECT DISTINCT Flag FROM ship_flag ORDER BY Flag ASC\"\"\")"
   ]
  },
  {
   "cell_type": "code",
   "execution_count": null,
   "id": "df0f4d86",
   "metadata": {},
   "outputs": [],
   "source": [
    "# show the last flag in the aphabetical order\n",
    "ps.sqldf(\"\"\"SELECT DISTINCT Flag FROM ship_flag ORDER BY Flag DESC limit 1\"\"\")"
   ]
  },
  {
   "cell_type": "code",
   "execution_count": null,
   "id": "c723e58e",
   "metadata": {},
   "outputs": [],
   "source": [
    "# show how many items are in the Flag column (with duplicates)\n",
    "ps.sqldf(\"\"\"SELECT COUNT(Flag) FROM ship_flag\"\"\")"
   ]
  },
  {
   "cell_type": "code",
   "execution_count": null,
   "id": "eabf5e5d",
   "metadata": {},
   "outputs": [],
   "source": [
    "# show the number of unique flags\n",
    "ps.sqldf(\"\"\"SELECT COUNT(DISTINCT Flag) FROM ship_flag\"\"\")"
   ]
  },
  {
   "cell_type": "markdown",
   "id": "06edc9f6",
   "metadata": {},
   "source": [
    "### Practice\n",
    "\n",
    "1. Find the earliest recorded shipwreck\n",
    "2. Find how many ships sank in 1942"
   ]
  },
  {
   "cell_type": "code",
   "execution_count": null,
   "id": "8e34d3c2",
   "metadata": {},
   "outputs": [],
   "source": [
    "ps.sqldf(\"\"\"SELECT Year from ship_sunk order by Year asc limit 1\"\"\")"
   ]
  },
  {
   "cell_type": "code",
   "execution_count": null,
   "id": "2160b54f",
   "metadata": {},
   "outputs": [],
   "source": [
    "ps.sqldf(\"\"\"SELECT count (*) from ship_sunk where Year=1942\"\"\")"
   ]
  },
  {
   "cell_type": "markdown",
   "id": "ac70baf9",
   "metadata": {},
   "source": [
    "## Group By"
   ]
  },
  {
   "cell_type": "markdown",
   "id": "8909b2dd",
   "metadata": {},
   "source": [
    "The GROUP BY statement groups rows that have the same values into summary rows, like \"find the number of customers in each country\".\n",
    "\n",
    "The GROUP BY statement is often used with aggregate functions (COUNT(), MAX(), MIN(), SUM(), AVG()) to group the result-set by one or more columns.\n",
    "\n",
    "```\n",
    "SELECT column_name(s)\n",
    "FROM table_name\n",
    "WHERE condition\n",
    "GROUP BY column_name(s)\n",
    "ORDER BY column_name(s);"
   ]
  },
  {
   "cell_type": "markdown",
   "id": "f8f7bcb6",
   "metadata": {},
   "source": [
    "## Practice :\n",
    "1. count how many ships sank per flag\n",
    "2. count how many flags had a shipwreck, displayed per year\n",
    "2. Find which Flag had the most shipwrecks after 2000"
   ]
  },
  {
   "cell_type": "code",
   "execution_count": null,
   "id": "80efa598",
   "metadata": {},
   "outputs": [],
   "source": [
    "# count how many ships sank per flag\n",
    "ps.sqldf(\"\"\"SELECT Flag, count(*)\n",
    "         FROM ship_flag\n",
    "         GROUP BY Flag ORDER BY count(*) desc\"\"\")"
   ]
  },
  {
   "cell_type": "code",
   "execution_count": null,
   "id": "9cbc42fc",
   "metadata": {},
   "outputs": [],
   "source": [
    "# count how many flags had a shipwreck, displayed per year\n",
    "ps.sqldf(\"\"\"SELECT ship_sunk.Year, count(ship_flag.Flag)\n",
    "         FROM ship_flag\n",
    "         INNER JOIN ship_sunk on ship_sunk.Ship = ship_flag.Ship\n",
    "         GROUP BY Year ORDER BY count(*) desc\"\"\")"
   ]
  },
  {
   "cell_type": "code",
   "execution_count": null,
   "id": "ceb336b6",
   "metadata": {},
   "outputs": [],
   "source": [
    "# Find which Flag had the most shipwrecks after 2000\n",
    "ps.sqldf(\"\"\"SELECT ship_flag.Flag, count(ship_flag.Ship)\n",
    "         FROM ship_flag\n",
    "         INNER JOIN ship_sunk on ship_sunk.Ship = ship_flag.Ship\n",
    "         WHERE ship_sunk.Year > 2000\n",
    "         GROUP BY Flag ORDER BY count(ship_flag.Ship) desc\n",
    "         LIMIT 1\"\"\")"
   ]
  },
  {
   "cell_type": "markdown",
   "id": "abe98a3e",
   "metadata": {},
   "source": [
    "# Manipulate data using pandas"
   ]
  },
  {
   "cell_type": "markdown",
   "id": "a6883cc5",
   "metadata": {},
   "source": [
    "## Import packages"
   ]
  },
  {
   "cell_type": "code",
   "execution_count": null,
   "id": "ff069c89",
   "metadata": {},
   "outputs": [],
   "source": [
    "import pandas as pd\n",
    "import seaborn as sns"
   ]
  },
  {
   "cell_type": "markdown",
   "id": "c4a81b89",
   "metadata": {},
   "source": [
    "## Loading datasets\n",
    "\n",
    "Pandas is able to load data from a wide range of format:\n",
    "- From RAM using dictionaries\n",
    "- From CSV files using `read_csv`\n",
    "- From XML files using `read_xml`\n",
    "- From HTML files using `read_html`\n",
    "..."
   ]
  },
  {
   "cell_type": "code",
   "execution_count": null,
   "id": "13b97b05",
   "metadata": {},
   "outputs": [],
   "source": [
    "ship_flag = pd.read_csv(\"data/ship_flag.csv\")\n",
    "ship_sunk = pd.read_csv(\"data/ship_sunk.csv\")"
   ]
  },
  {
   "cell_type": "code",
   "execution_count": null,
   "id": "d70afd5a",
   "metadata": {},
   "outputs": [],
   "source": [
    "# Load data from CSV\n",
    "df = pd.read_csv(\"data/ship_flag.csv\")\n",
    "\n",
    "# Load data from RAM\n",
    "df = pd.DataFrame({\"column_1\": [1, 2, 3], \"column_2\": [2, 3, 1], \"column_3\": [\"value_1\", \"value_2\", \"value_2\"]}, index=[\"index_1\", \"index_2\", \"index_3\"])"
   ]
  },
  {
   "cell_type": "markdown",
   "id": "81f0fc16",
   "metadata": {},
   "source": [
    "## Analyzing data\n",
    "\n",
    "### Columns and indexes\n",
    "The columns and the index can be accessed as attributes, as a class `Index`."
   ]
  },
  {
   "cell_type": "code",
   "execution_count": null,
   "id": "189dee23",
   "metadata": {},
   "outputs": [],
   "source": [
    "# Access the columns\n",
    "print(df.columns)\n",
    "\n",
    "# Access the index\n",
    "print(df.index)"
   ]
  },
  {
   "cell_type": "markdown",
   "id": "a45a800b",
   "metadata": {},
   "source": [
    "Indexes can be set using the method `set_index`."
   ]
  },
  {
   "cell_type": "code",
   "execution_count": null,
   "id": "fa0728d5",
   "metadata": {},
   "outputs": [],
   "source": [
    "df.set_index(\"column_1\")"
   ]
  },
  {
   "cell_type": "markdown",
   "id": "2475f961",
   "metadata": {},
   "source": [
    "**Exercice**: \n",
    "1. Print the columns and the indexes of the two dataframes in `ship_flag` and in `ship_flunk`.\n",
    "2. Set the ship name as the index for the two dataframes `ship_flag` and `ship_sunk`.\n",
    "3. Using the method `shape` give the number of rows and columns in each dataframe."
   ]
  },
  {
   "cell_type": "code",
   "execution_count": null,
   "id": "3a21e9cc",
   "metadata": {},
   "outputs": [],
   "source": [
    "# Print the columns and the indexes of the two dataframes in `ship_flag` and in `ship_flunk`.\n",
    "print(ship_flag.columns)\n",
    "print(ship_flag.index)\n",
    "print(ship_sunk.columns)\n",
    "print(ship_sunk.index)"
   ]
  },
  {
   "cell_type": "code",
   "execution_count": null,
   "id": "82ec23d8",
   "metadata": {},
   "outputs": [],
   "source": [
    "# Set the ship name as the index for the two dataframes `ship_flag` and `ship_sunk`.\n",
    "# ship_flag.set_index(\"Ship\", inplace=True) # if you want to set the index on the original dataframe\n",
    "ship_flag.set_index(\"Ship\")\n",
    "ship_sunk.set_index(\"Ship\") # returns a copy of the dataframe with the index"
   ]
  },
  {
   "cell_type": "code",
   "execution_count": null,
   "id": "9979ba14",
   "metadata": {},
   "outputs": [],
   "source": [
    "# Using the method `shape` give the number of rows and columns in each dataframe.\n",
    "print(ship_flag.shape)\n",
    "print(ship_sunk.shape)"
   ]
  },
  {
   "cell_type": "markdown",
   "id": "586dbb8e",
   "metadata": {},
   "source": [
    "### Accessing columns and rows\n",
    "\n",
    "One of the strength of pandas is the **easy manipulation of data**.\n",
    "\n",
    "On a row basis, data can be accessed by row index or by location."
   ]
  },
  {
   "cell_type": "code",
   "execution_count": null,
   "id": "a0569e7c",
   "metadata": {},
   "outputs": [],
   "source": [
    "# First row by index range\n",
    "df.iloc[0]\n",
    "# Also first row by index name\n",
    "df.loc[\"index_1\"]"
   ]
  },
  {
   "cell_type": "markdown",
   "id": "3e1f3861",
   "metadata": {},
   "source": [
    "Columns can be accessed by name."
   ]
  },
  {
   "cell_type": "code",
   "execution_count": null,
   "id": "2ff9e1fb",
   "metadata": {},
   "outputs": [],
   "source": [
    "# Access as a series \n",
    "df[\"column_1\"]\n",
    "# Access several columns at the same time\n",
    "df[[\"column_1\", \"column_2\"]]\n",
    "# Access using both rows and column index\n",
    "print(df.loc[\"index_1\", 'column_1'])"
   ]
  },
  {
   "cell_type": "markdown",
   "id": "83dd6c8e",
   "metadata": {},
   "source": [
    "Data can be filtered using boolean filters, based on conditions."
   ]
  },
  {
   "cell_type": "code",
   "execution_count": null,
   "id": "9c1a9415",
   "metadata": {},
   "outputs": [],
   "source": [
    "# Filter on the serie\n",
    "df.column_1[df.column_1 > 1]\n",
    "\n",
    "# Filter on the dataframe\n",
    "df[df.column_3 == \"value_1\"]\n",
    "\n",
    "# Group conditions\n",
    "df.column_1[(df.column_1 > 1) & (2 > df.column_2)]"
   ]
  },
  {
   "cell_type": "markdown",
   "id": "f8e62d73",
   "metadata": {},
   "source": [
    "**Exercice**:\n",
    "1. Extract the columns `Flag` from the dataframe `ship_flag`.\n",
    "2. List all the sunk ships flying the United States flag.\n",
    "3. Using the dataframe `ship_sunk`, return the year the `Globe Star` ship was sunk.\n",
    "4. **Bonus**: return all the name of the ships that start with an M."
   ]
  },
  {
   "cell_type": "code",
   "execution_count": null,
   "id": "9ebe9166",
   "metadata": {},
   "outputs": [],
   "source": [
    "# Extract the columns `Flag` from the dataframe `ship_flag`.\n",
    "ship_flag.Flag"
   ]
  },
  {
   "cell_type": "code",
   "execution_count": null,
   "id": "8bd1fd17",
   "metadata": {},
   "outputs": [],
   "source": [
    "# List all the sunk ships flying the United States flag.\n",
    "\n",
    "ship_flag.Ship[ship_flag.Flag == \"United States\"]"
   ]
  },
  {
   "cell_type": "code",
   "execution_count": null,
   "id": "5c21b626",
   "metadata": {},
   "outputs": [],
   "source": [
    "# Using the dataframe `ship_sunk`, return the year the `Globe Star` ship was sunk.\n",
    "ship_sunk.Year[ship_sunk.Ship == \"Globe Star\"]"
   ]
  },
  {
   "cell_type": "code",
   "execution_count": null,
   "id": "76710d04",
   "metadata": {},
   "outputs": [],
   "source": [
    "# **Bonus**: return all the name of the ships that start with an M.\n",
    "ship_sunk.Ship[ship_sunk.Ship.str.startswith(\"M\")]"
   ]
  },
  {
   "cell_type": "markdown",
   "id": "425b6be4",
   "metadata": {},
   "source": [
    "### Statistics and aggregation\n",
    "Statistics can be easily computed using pandas. The method `describe` provides all standard estimators (on **quantitative** data), which can also be computed separately using the corresponding method."
   ]
  },
  {
   "cell_type": "code",
   "execution_count": null,
   "id": "2daa2021",
   "metadata": {},
   "outputs": [],
   "source": [
    "df.describe()\n",
    "df.column_1.mean()"
   ]
  },
  {
   "cell_type": "markdown",
   "id": "ca9e768c",
   "metadata": {},
   "source": [
    "For **categorical** data, you should use `value_counts`. You can access"
   ]
  },
  {
   "cell_type": "code",
   "execution_count": null,
   "id": "1f76866a",
   "metadata": {},
   "outputs": [],
   "source": [
    "df.column_3.unique()"
   ]
  },
  {
   "cell_type": "code",
   "execution_count": null,
   "id": "806be381",
   "metadata": {},
   "outputs": [],
   "source": [
    "df.column_3.value_counts()"
   ]
  },
  {
   "cell_type": "markdown",
   "id": "cb00c2a5",
   "metadata": {},
   "source": [
    "Data can be grouped on a per column basis to compute the statistics."
   ]
  },
  {
   "cell_type": "code",
   "execution_count": null,
   "id": "3add6441",
   "metadata": {},
   "outputs": [],
   "source": [
    "df.groupby([\"column_3\"]).mean()"
   ]
  },
  {
   "cell_type": "markdown",
   "id": "058f7387",
   "metadata": {},
   "source": [
    "**Exercice**:\n",
    "1. Give the number of distinct flags.\n",
    "2. Provide the number of ship sunk by flag. Which is the flag with the highest count of sunk ship ?\n",
    "3. Give the number of ship sunk after 1900. "
   ]
  },
  {
   "cell_type": "code",
   "execution_count": null,
   "id": "0fbfc32c",
   "metadata": {},
   "outputs": [],
   "source": [
    "# Give the number of distinct flags.\n",
    "print(len(ship_flag.Flag.unique()))\n",
    "print(ship_flag.Flag.unique().shape)"
   ]
  },
  {
   "cell_type": "code",
   "execution_count": null,
   "id": "2ad8616b",
   "metadata": {},
   "outputs": [],
   "source": [
    "# Provide the number of ship sunk by flag. Which is the flag with the highest count of sunk ship ?\n",
    "nb_ships = ship_flag.groupby([\"Flag\"]).count()\n",
    "print(nb_ships.sort_values([\"Ship\"], ascending=False).head(1))\n",
    "# print(nb_ships.iloc[nb_ships.Ship.argmax()])\n"
   ]
  },
  {
   "cell_type": "code",
   "execution_count": null,
   "id": "9007072e",
   "metadata": {},
   "outputs": [],
   "source": [
    "# Give the number of ship sunk after 1900.\n",
    "ship_sunk.Ship[ship_sunk.Year > 1900].count()"
   ]
  },
  {
   "cell_type": "markdown",
   "id": "6a62bf2d",
   "metadata": {},
   "source": [
    "### Merging datasets\n",
    "Often, our data needs to be merged to combine information within several datasets."
   ]
  },
  {
   "cell_type": "code",
   "execution_count": null,
   "id": "97caabd4",
   "metadata": {},
   "outputs": [],
   "source": [
    "# Create additional data to be merged\n",
    "df_1 = pd.DataFrame({\"column_1\": [1, 2, 3], \"column_4\": [1, 3, 1]}, index=[\"index_1\", \"index_2\", \"index_3\"])\n",
    "\n",
    "# Merge based on a common column\n",
    "merged_data = pd.merge(df, df_1, on='column_1')\n",
    "\n",
    "# Different types of joins\n",
    "merged_inner = pd.merge(df, df_1, on='column_1', how='inner')\n",
    "merged_left = pd.merge(df, df_1, on='column_1', how='left')\n",
    "merged_right = pd.merge(df, df_1, on='column_1', how='right')\n",
    "merged_outer = pd.merge(df, df_1, on='column_1', how='outer')\n",
    "\n",
    "# Merge on index\n",
    "merged_on_indices = pd.merge(df, df_1, left_index=True, right_index=True)\n"
   ]
  },
  {
   "cell_type": "markdown",
   "id": "712a7646",
   "metadata": {},
   "source": [
    "**Exercice**:\n",
    "1. For each of the merges, print the result and understand it.\n",
    "2. Perform two different merges on the dataset `ship_flag` and `ship_sunk` on the Ship column:\n",
    "    1. Keeping only ships of the ship_sunk dataframe\n",
    "    2. Keeping all data\n",
    "3. Find the flags of the Ships that sank in 2000"
   ]
  },
  {
   "cell_type": "code",
   "execution_count": null,
   "id": "8b5ae794",
   "metadata": {},
   "outputs": [],
   "source": [
    "# For each of the merges, print the result\n",
    "print(merged_data)\n",
    "print(merged_inner)\n",
    "print(merged_left)\n",
    "print(merged_right)\n",
    "print(merged_outer)\n",
    "print(merged_on_indices)"
   ]
  },
  {
   "cell_type": "code",
   "execution_count": null,
   "id": "8a93a626",
   "metadata": {},
   "outputs": [],
   "source": [
    "# Merge keeping only ships of the ship_sunk dataframe\n",
    "ship_notes = pd.merge(ship_sunk, ship_flag, how='left', on='Ship')\n",
    "print(ship_notes)\n",
    "# sum(pd.isnull(ship_sunk.Year))"
   ]
  },
  {
   "cell_type": "code",
   "execution_count": null,
   "id": "ba09d0c7",
   "metadata": {},
   "outputs": [],
   "source": [
    "# Merge keeping all data\n",
    "ship_all = pd.merge(ship_sunk, ship_flag, on='Ship', how='outer')\n",
    "print(ship_all)"
   ]
  },
  {
   "cell_type": "code",
   "execution_count": null,
   "id": "bc9bce6a",
   "metadata": {},
   "outputs": [],
   "source": [
    "# Find the flags of the Ships that sank in 2000\n",
    "ship_merge = pd.merge(ship_sunk, ship_flag, how='left', on='Ship')\n",
    "ship_merge.Flag[ship_merge.Year == 2000].unique()"
   ]
  },
  {
   "cell_type": "markdown",
   "id": "c19fb8aa",
   "metadata": {},
   "source": [
    "## Data vizualization using seaborn\n",
    "The standard Python library for plotting is `matplotlib`, and seaborn is a wrapper around it that enables easy integration with pandas dataframe.\n",
    "\n",
    "Most plots are integrated within the library, using the following syntax:\n",
    "- x: Value of x axis\n",
    "- y: Value of y axis\n",
    "- data: pandas DataFrame"
   ]
  },
  {
   "cell_type": "code",
   "execution_count": null,
   "id": "7b807da0",
   "metadata": {},
   "outputs": [],
   "source": [
    "# Create a count plot with the proper x and y title\n",
    "g = sns.countplot(x=\"column_3\", data=df)\n",
    "g.set_xlabel(\"Column 3\")\n",
    "g.set_ylabel(\"Count\")\n",
    "g.set_title(\"Count plot of values in column 3\")\n",
    "\n",
    "# Rotate x labels (is handy when you have a lot of x data)\n",
    "g.set_xticklabels(g.get_xticklabels(), rotation=30)"
   ]
  },
  {
   "cell_type": "code",
   "execution_count": null,
   "id": "57cdfd5f",
   "metadata": {},
   "outputs": [],
   "source": [
    "# Create a scatter plot\n",
    "g = sns.scatterplot(x=\"column_1\", y=\"column_2\", data=df)\n",
    "g.set_xlabel(\"Column 1\")\n",
    "g.set_ylabel(\"Column 2\")\n",
    "g.set_title(\"Scatter plot of column 1 and column 2\")"
   ]
  },
  {
   "cell_type": "markdown",
   "id": "c84defd8",
   "metadata": {},
   "source": [
    "**Exercice**:\n",
    "1. Plot for the 10 flags with the highest count of wrecks the number of ship wrecks.\n",
    "2. Plot per year in the 21th century the number of shipwrecks."
   ]
  },
  {
   "cell_type": "code",
   "execution_count": null,
   "id": "1efbcb97",
   "metadata": {},
   "outputs": [],
   "source": [
    "# Plot for the 10 flags with the highest count of wrecks the number of ship wrecks.\n",
    "ten_flags = ship_flag.groupby([\"Flag\"]).count().sort_values([\"Ship\"], ascending=False).head(10)\n",
    "ten_flags.reset_index(inplace=True)\n",
    "\n",
    "print(ten_flags)\n",
    "\n",
    "g = sns.scatterplot(x=\"Flag\", y=\"Ship\", data=ten_flags)\n",
    "g.set_xlabel(\"Flag\")\n",
    "g.set_ylabel(\"Count\")\n",
    "g.set_title(\"Count Flags with highest wrecks\")\n",
    "g.set_xticklabels(g.get_xticklabels(), rotation=40)"
   ]
  },
  {
   "cell_type": "code",
   "execution_count": null,
   "id": "59c37d45",
   "metadata": {},
   "outputs": [],
   "source": [
    "# Plot per year in the 21th century the number of shipwrecks\n",
    "per_year = ship_sunk.groupby([\"Year\"]).count().sort_values([\"Year\"], ascending=False).reset_index()\n",
    "after_2000 = per_year[per_year.Year >= 2000]\n",
    "print(after_2000[['Year', 'Ship']])\n",
    "\n",
    "\n",
    "g = sns.scatterplot(x=\"Year\", y=\"Ship\", data=per_year)\n",
    "g.set_xlabel(\"Year\")\n",
    "g.set_ylabel(\"Count\")\n",
    "g.set_title(\"Count shipwrecks per year\")\n",
    "g.set_xticklabels(g.get_xticklabels(), rotation=40)"
   ]
  }
 ],
 "metadata": {
  "kernelspec": {
   "display_name": "Python for SHS",
   "language": "python",
   "name": "py4shs"
  },
  "language_info": {
   "codemirror_mode": {
    "name": "ipython",
    "version": 3
   },
   "file_extension": ".py",
   "mimetype": "text/x-python",
   "name": "python",
   "nbconvert_exporter": "python",
   "pygments_lexer": "ipython3",
   "version": "3.9.6"
  }
 },
 "nbformat": 4,
 "nbformat_minor": 5
}
