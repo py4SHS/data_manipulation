{
 "cells": [
  {
   "cell_type": "markdown",
   "id": "7d5024fb",
   "metadata": {},
   "source": [
    "# Lab for data manipulation\n",
    "Required packages:\n",
    "\n",
    "- `pandas`\n",
    "- `seaborn`\n",
    "\n",
    "The lab is organized using standard data processing pipeline:\n",
    "1. Retrieve/load dataset(s);\n",
    "2. Perform preprocessing and filtering;\n",
    "3. Compute statistical estimators;\n",
    "4. Plot the data.\n",
    "\n",
    "\n",
    "For this lab, two datasets are available:\n",
    "- `data/romeo_juliet_character.csv`: contains for each line who is the player and their gender.\n",
    "- `data/romeo_juliet_line.csv`: contains for each line the content.\n",
    "\n",
    "Their common information to match them together is the column `line_index`."
   ]
  },
  {
   "cell_type": "code",
   "execution_count": null,
   "id": "c8d05ca8",
   "metadata": {},
   "outputs": [],
   "source": [
    "import pandas as pd"
   ]
  },
  {
   "cell_type": "markdown",
   "id": "0145cd98",
   "metadata": {},
   "source": [
    "## Loading datasets\n",
    "\n",
    "Pandas is able to load data from a wide range of format:\n",
    "- From RAM using dictionaries\n",
    "- From CSV files using `read_csv`\n",
    "- From XML files using `read_xml`\n",
    "- From HTML files using `read_html`\n",
    "..."
   ]
  },
  {
   "cell_type": "code",
   "execution_count": null,
   "id": "43e89546",
   "metadata": {},
   "outputs": [],
   "source": [
    "\n",
    "# Load data from CSV\n",
    "df = pd.read_csv(\"data/shakespeare.csv\")\n",
    "\n",
    "# Load data from RAM\n",
    "df = pd.DataFrame({\"column_1\": [1, 2, 3], \"column_2\": [2, 3, 1], \"column_3\": [\"value_1\", \"value_2\", \"value_2\"]}, index=[\"index_1\", \"index_2\", \"index_3\"])\n"
   ]
  },
  {
   "cell_type": "markdown",
   "id": "95b5fae2",
   "metadata": {},
   "source": [
    "**Exercice**: Load the two datasets in `data/romeo_juliet_character.csv` and in `data/romeo_juliet_line.csv` and store them in the variable `character` and `line`."
   ]
  },
  {
   "cell_type": "code",
   "execution_count": null,
   "id": "465144fa",
   "metadata": {},
   "outputs": [],
   "source": [
    "# load the two datasets\n",
    "character = ...\n",
    "line = ..."
   ]
  },
  {
   "cell_type": "markdown",
   "id": "37666d80",
   "metadata": {},
   "source": [
    "## Basic dataset information\n",
    "\n",
    "After the initial loading process, several information can be computed on the dataset:\n",
    "- Its size, using the attribute `.shape`\n",
    "- Its columns, using the attributes `.columns`\n",
    "- Its first rows, using the method `.head()`"
   ]
  },
  {
   "cell_type": "code",
   "execution_count": null,
   "id": "0679d19c",
   "metadata": {},
   "outputs": [],
   "source": [
    "# Example on demo dataframe\n",
    "df.shape\n",
    "df.columns\n",
    "df.head()"
   ]
  },
  {
   "cell_type": "markdown",
   "id": "d4917942",
   "metadata": {},
   "source": [
    "**Exercice**:\n",
    "1. For each of the two Romeo and Juliet Dataframe, give their number of lines and columns.\n",
    "2. For each of the two Romeo and Juliet Dataframe, give their column names.\n",
    "3. For each of the two Romeo and Juliet Dataframe, obtain the `head()` of the dataframe and describe each column."
   ]
  },
  {
   "cell_type": "markdown",
   "id": "5dfb22c0",
   "metadata": {},
   "source": [
    "## Merging the two datasets\n",
    "\n",
    "Often, information is scattered across several dataframes, and one must merge together several datasets to create a single one with the whole information (*see lecture slides on this topic*).\n",
    "\n",
    "Pandas using the function `pd.merge()` to merge together two dataframes, where you must specify:\n",
    "- The two dataframes to merge;\n",
    "- The merge columns as the name of the columns in the  `left_on` (first daframe) and the `right_on` parameters (second dataframe);\n",
    "- The merge approach using the `how` parameters (left, right, inner, outer) (*see lecture slides*)."
   ]
  },
  {
   "cell_type": "code",
   "execution_count": null,
   "id": "b9a8c703",
   "metadata": {},
   "outputs": [],
   "source": [
    "# Example merge\n",
    "df_1 = pd.DataFrame({\"column_1\": [1, 2, 3], \"column_2\": [2, 3, 1], \"column_3\": [\"value_1\", \"value_2\", \"value_2\"]})\n",
    "df_2 = pd.DataFrame({\"column_4\": [1, 2, 3], \"column_5\": [2, 5, 1]})\n",
    "\n",
    "df = pd.merge(df_1, df_2, how=\"inner\", left_on=\"column_1\", right_on=\"column_4\")\n",
    "\n",
    "df.head()"
   ]
  },
  {
   "cell_type": "markdown",
   "id": "3edfaf7d",
   "metadata": {},
   "source": [
    "**Exercice**: Create a DataFrame `romeo_juliet` that merges the two dataframes in an inner fashion, both on their column `line_index`. List the columns of this new dataset."
   ]
  },
  {
   "cell_type": "markdown",
   "id": "ece0a1ea",
   "metadata": {},
   "source": [
    "## Filtering the dataset\n",
    "Another important feature of pandas is the possibility of filtering the dataset in order to only work with the wanted individuals and variables."
   ]
  },
  {
   "cell_type": "code",
   "execution_count": null,
   "id": "52758018",
   "metadata": {},
   "outputs": [],
   "source": [
    "df = pd.DataFrame({\"column_1\": [1, 2, 3], \"column_2\": [2, 3, 1], \"column_3\": [\"value_1\", \"value_2\", \"value_2\"]}, index=[\"index_1\",\"index_2\",\"index_3\"])"
   ]
  },
  {
   "cell_type": "markdown",
   "id": "a0df6360",
   "metadata": {},
   "source": [
    "#### Accessing rows"
   ]
  },
  {
   "cell_type": "code",
   "execution_count": null,
   "id": "b6a47061",
   "metadata": {},
   "outputs": [],
   "source": [
    "# First row by index range\n",
    "df.iloc[0:2]\n",
    "# Also first row by index name\n",
    "df.loc[\"index_1\"]"
   ]
  },
  {
   "cell_type": "markdown",
   "id": "c73acefd",
   "metadata": {},
   "source": [
    "**Exercice**: Return the rows between line 20 and 40 of the `romeo_juliet` DataFrame you created in the previous question."
   ]
  },
  {
   "cell_type": "markdown",
   "id": "07e8f798",
   "metadata": {},
   "source": [
    "#### Accessing columns"
   ]
  },
  {
   "cell_type": "code",
   "execution_count": null,
   "id": "6a8cf481",
   "metadata": {},
   "outputs": [],
   "source": [
    "# Access as a series \n",
    "df[\"column_1\"]\n",
    "# or\n",
    "df.column_1\n",
    "\n",
    "# Access several columns at the same time\n",
    "df[[\"column_1\", \"column_2\"]]\n",
    "\n",
    "# Access using both rows and column index\n",
    "print(df.loc[\"index_1\", 'column_1'])"
   ]
  },
  {
   "cell_type": "code",
   "execution_count": null,
   "id": "04df0270",
   "metadata": {},
   "outputs": [],
   "source": [
    "df = pd.read_csv(\"data/shakespeare.csv\")"
   ]
  },
  {
   "cell_type": "markdown",
   "id": "dbedb7a6",
   "metadata": {},
   "source": [
    "**Exercice**: Return the columns Player and PlayerLine from the `romeo_juliet` dataset."
   ]
  },
  {
   "cell_type": "markdown",
   "id": "5e051eeb",
   "metadata": {},
   "source": [
    "#### Filtering data on conditions\n",
    "\n",
    "Boolean conditions can be applied to filter out different rows.\n",
    "The return results is a DataFrame for which you can manipulate the same attributes and methods than other DataFrames."
   ]
  },
  {
   "cell_type": "code",
   "execution_count": null,
   "id": "7a9cdde8",
   "metadata": {},
   "outputs": [],
   "source": [
    "# Filter on a specific column\n",
    "df.column_1[df.column_1 > 1]\n",
    "\n",
    "# Filter on the dataframe\n",
    "df[df.column_3 == \"value_1\"]\n",
    "\n",
    "# Group conditions\n",
    "df.column_1[(df.column_1 > 1) & (2 > df.column_2)]"
   ]
  },
  {
   "cell_type": "markdown",
   "id": "7f4b7274",
   "metadata": {},
   "source": [
    "### Sorting data\n",
    "\n",
    "Data can be sorted using the `sort_values()` method, which takes as argument in `by` the name of the column for sorting and the boolean value for `ascending`."
   ]
  },
  {
   "cell_type": "code",
   "execution_count": null,
   "id": "2baad708",
   "metadata": {},
   "outputs": [],
   "source": [
    "\n",
    "df.sort_values(by=\"column_1\", ascending=True)"
   ]
  },
  {
   "cell_type": "markdown",
   "id": "32f41fca",
   "metadata": {},
   "source": [
    "**Exercice**:\n",
    "1. Give the number of lines performed by a male and by a female actor.\n",
    "2. Return all lines with an index above 50.\n",
    "3. Sort dataset alphabetically by character's name.\n",
    "4. Return all lines said by Juliet.\n",
    "4. **Bonus**: return all the name of actor names that start with an R."
   ]
  },
  {
   "cell_type": "markdown",
   "id": "88933176",
   "metadata": {},
   "source": [
    "## Computing statistical estimators\n",
    "\n",
    "After data preprocessing, computing statistical estimators is one of the final goal of data science.\n",
    "As we saw in the lecture this morning, analysis can be either univariate or multivariate."
   ]
  },
  {
   "cell_type": "markdown",
   "id": "806b043c",
   "metadata": {},
   "source": [
    "##### Univariate analysis"
   ]
  },
  {
   "cell_type": "code",
   "execution_count": null,
   "id": "a225b2b8",
   "metadata": {},
   "outputs": [],
   "source": [
    "df = pd.DataFrame({\"column_1\": [1, 2, 3], \"column_2\": [2, 3, 1], \"column_3\": [\"value_1\", \"value_2\", \"value_2\"]}, index=[\"index_1\",\"index_2\",\"index_3\"])"
   ]
  },
  {
   "cell_type": "markdown",
   "id": "76462166",
   "metadata": {},
   "source": [
    "The method `describe` provides all standard estimators (on **quantitative** data), which can also be computed separately using the corresponding method."
   ]
  },
  {
   "cell_type": "code",
   "execution_count": null,
   "id": "912aa6cd",
   "metadata": {},
   "outputs": [],
   "source": [
    "df.describe()"
   ]
  },
  {
   "cell_type": "markdown",
   "id": "955b62cf",
   "metadata": {},
   "source": [
    "For **categorical** data, you should use `value_counts` to compute the different numbers of time a value is present in the dataset. You calso use the `unique()` method to return an array of unique values within the dataframe."
   ]
  },
  {
   "cell_type": "code",
   "execution_count": null,
   "id": "9345235a",
   "metadata": {},
   "outputs": [],
   "source": [
    "df.column_3.value_counts()\n",
    "df.column_3.unique()"
   ]
  },
  {
   "cell_type": "markdown",
   "id": "071e9992",
   "metadata": {},
   "source": [
    "#### Multivariate analysis"
   ]
  },
  {
   "cell_type": "markdown",
   "id": "88c3313d",
   "metadata": {},
   "source": [
    "Multivariate analysis consists in studying the relationship between several variables of the dataset. \n",
    "\n",
    "In the case of 1 categorical and 1 numerical variable, this analysis can be performed using the groupby method `groupby()`, that takes as input the name of the grouping variable, followed by the call of the method corresponding to the wanted estimator for the grouping."
   ]
  },
  {
   "cell_type": "code",
   "execution_count": null,
   "id": "c6c1c731",
   "metadata": {},
   "outputs": [],
   "source": [
    "df.groupby(\"column_3\").mean()"
   ]
  },
  {
   "cell_type": "markdown",
   "id": "9a53be03",
   "metadata": {},
   "source": [
    "**Exercice**:\n",
    "1. Give the name of distinct characters.\n",
    "2. Count the number of lines by each character and return the character with the most line (method to computer the counts is `count()`).\n",
    "3. Count the number of lines given by each gender."
   ]
  },
  {
   "cell_type": "markdown",
   "id": "efc3605b",
   "metadata": {},
   "source": [
    "## Plotting results\n",
    "\n",
    "There are several libraries to perform plotting in Python, but we focus for this lab on the `seaborn` library. The standard Python library for plotting is `seaborn`, and seaborn is a wrapper around it that enables easy integration with pandas dataframe.\n",
    "\n",
    "Most plots are integrated within the library, using the following syntax:\n",
    "- x: Value of x axis;\n",
    "- y: Value of y axis;\n",
    "- hue: Color and grouping factor;\n",
    "- data: pandas DataFrame."
   ]
  },
  {
   "cell_type": "code",
   "execution_count": null,
   "id": "9a0a96a9",
   "metadata": {},
   "outputs": [],
   "source": [
    "import seaborn as sns"
   ]
  },
  {
   "cell_type": "markdown",
   "id": "c4bb7e3a",
   "metadata": {},
   "source": [
    "Count plots consist in counting the values for a given variable."
   ]
  },
  {
   "cell_type": "code",
   "execution_count": null,
   "id": "7c546c7b",
   "metadata": {},
   "outputs": [],
   "source": [
    "# Create a count plot with the proper x and y title\n",
    "g = sns.countplot(x=\"column_3\", data=df)\n",
    "g.set_xlabel(\"Column 3\")\n",
    "g.set_ylabel(\"Count\")\n",
    "g.set_title(\"Count plot of values in column 3\")\n",
    "\n",
    "# Rotate x labels (is handy when you have a lot of x data)\n",
    "g.set_xticklabels(g.get_xticklabels(), rotation=30)"
   ]
  },
  {
   "cell_type": "code",
   "execution_count": null,
   "id": "9ce38206",
   "metadata": {},
   "outputs": [],
   "source": [
    "\n",
    "\n",
    "# Create a scatter plot\n",
    "g = sns.scatterplot(x=\"column_1\", y=\"column_2\", data=df)\n",
    "g.set_xlabel(\"Column 1\")\n",
    "g.set_ylabel(\"Column 2\")\n",
    "g.set_title(\"Scatter plot of column 1 and column 2\")"
   ]
  },
  {
   "cell_type": "markdown",
   "id": "6bcc3489",
   "metadata": {},
   "source": [
    "**Exercice**:\n",
    "1. Represent graphically the number of lines per gender. The x and y labels, as well the graph title, should be properly specified.\n",
    "2. Represent graphically the number of lines per actor. The x and y labels, as well the graph title, should be properly specified."
   ]
  },
  {
   "cell_type": "markdown",
   "id": "6aceb7d0",
   "metadata": {},
   "source": [
    "**Bonus exercice**:\n",
    "If you have finished all the previous exercises :-)\n",
    "\n",
    "1. Extract all verses that contain the word \"love\".\n",
    "2. Extract all verses said by Juliet that contains the word love.\n",
    "3. Perform the following chronological plot: plot the number of words per line, use different colors of dots for the different genders"
   ]
  }
 ],
 "metadata": {
  "kernelspec": {
   "display_name": "Python 3 (ipykernel)",
   "language": "python",
   "name": "python3"
  },
  "language_info": {
   "codemirror_mode": {
    "name": "ipython",
    "version": 3
   },
   "file_extension": ".py",
   "mimetype": "text/x-python",
   "name": "python",
   "nbconvert_exporter": "python",
   "pygments_lexer": "ipython3",
   "version": "3.11.9"
  }
 },
 "nbformat": 4,
 "nbformat_minor": 5
}
