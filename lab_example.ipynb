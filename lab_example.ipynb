{
 "cells": [
  {
   "cell_type": "markdown",
   "id": "7d5024fb",
   "metadata": {},
   "source": [
    "# Lab for data manipulation\n",
    "Required packages:\n",
    "\n",
    "- `pandas`\n",
    "- `seaborn`\n",
    "- `pandasql`"
   ]
  },
  {
   "cell_type": "code",
   "execution_count": 1,
   "id": "c8d05ca8",
   "metadata": {},
   "outputs": [],
   "source": [
    "import pandas as pd\n",
    "import pandasql as ps"
   ]
  },
  {
   "cell_type": "markdown",
   "id": "0145cd98",
   "metadata": {},
   "source": [
    "## Load datasets"
   ]
  },
  {
   "cell_type": "code",
   "execution_count": 2,
   "id": "316254c9",
   "metadata": {},
   "outputs": [],
   "source": [
    "ship_flag = pd.read_csv(\"data/ship_flag.csv\")\n",
    "ship_sunk = pd.read_csv(\"data/ship_sunk.csv\")\n",
    "\n",
    "pysqldf = lambda q: sqldf(q, globals())"
   ]
  },
  {
   "cell_type": "markdown",
   "id": "4535f916",
   "metadata": {},
   "source": [
    "## Manipulate data using SQL"
   ]
  },
  {
   "cell_type": "code",
   "execution_count": 3,
   "id": "68f3d94a",
   "metadata": {},
   "outputs": [
    {
     "data": {
      "text/html": [
       "<div>\n",
       "<style scoped>\n",
       "    .dataframe tbody tr th:only-of-type {\n",
       "        vertical-align: middle;\n",
       "    }\n",
       "\n",
       "    .dataframe tbody tr th {\n",
       "        vertical-align: top;\n",
       "    }\n",
       "\n",
       "    .dataframe thead th {\n",
       "        text-align: right;\n",
       "    }\n",
       "</style>\n",
       "<table border=\"1\" class=\"dataframe\">\n",
       "  <thead>\n",
       "    <tr style=\"text-align: right;\">\n",
       "      <th></th>\n",
       "      <th>Ship</th>\n",
       "    </tr>\n",
       "  </thead>\n",
       "  <tbody>\n",
       "    <tr>\n",
       "      <th>0</th>\n",
       "      <td>Black Assarca shipwreck</td>\n",
       "    </tr>\n",
       "    <tr>\n",
       "      <th>1</th>\n",
       "      <td>Globe Star</td>\n",
       "    </tr>\n",
       "    <tr>\n",
       "      <th>2</th>\n",
       "      <td>Gulland</td>\n",
       "    </tr>\n",
       "    <tr>\n",
       "      <th>3</th>\n",
       "      <td>Mtongwe</td>\n",
       "    </tr>\n",
       "    <tr>\n",
       "      <th>4</th>\n",
       "      <td>Katina P</td>\n",
       "    </tr>\n",
       "    <tr>\n",
       "      <th>...</th>\n",
       "      <td>...</td>\n",
       "    </tr>\n",
       "    <tr>\n",
       "      <th>3724</th>\n",
       "      <td>Sovereign of the Seas</td>\n",
       "    </tr>\n",
       "    <tr>\n",
       "      <th>3725</th>\n",
       "      <td>Takao</td>\n",
       "    </tr>\n",
       "    <tr>\n",
       "      <th>3726</th>\n",
       "      <td>U-181</td>\n",
       "    </tr>\n",
       "    <tr>\n",
       "      <th>3727</th>\n",
       "      <td>U-859</td>\n",
       "    </tr>\n",
       "    <tr>\n",
       "      <th>3728</th>\n",
       "      <td>U-862</td>\n",
       "    </tr>\n",
       "  </tbody>\n",
       "</table>\n",
       "<p>3729 rows × 1 columns</p>\n",
       "</div>"
      ],
      "text/plain": [
       "                         Ship\n",
       "0     Black Assarca shipwreck\n",
       "1                  Globe Star\n",
       "2                     Gulland\n",
       "3                     Mtongwe\n",
       "4                    Katina P\n",
       "...                       ...\n",
       "3724    Sovereign of the Seas\n",
       "3725                    Takao\n",
       "3726                    U-181\n",
       "3727                    U-859\n",
       "3728                    U-862\n",
       "\n",
       "[3729 rows x 1 columns]"
      ]
     },
     "execution_count": 3,
     "metadata": {},
     "output_type": "execute_result"
    }
   ],
   "source": [
    "ps.sqldf(\"SELECT ship_flag.Ship from ship_flag\")"
   ]
  },
  {
   "cell_type": "code",
   "execution_count": 4,
   "id": "a481026b",
   "metadata": {},
   "outputs": [
    {
     "data": {
      "text/html": [
       "<div>\n",
       "<style scoped>\n",
       "    .dataframe tbody tr th:only-of-type {\n",
       "        vertical-align: middle;\n",
       "    }\n",
       "\n",
       "    .dataframe tbody tr th {\n",
       "        vertical-align: top;\n",
       "    }\n",
       "\n",
       "    .dataframe thead th {\n",
       "        text-align: right;\n",
       "    }\n",
       "</style>\n",
       "<table border=\"1\" class=\"dataframe\">\n",
       "  <thead>\n",
       "    <tr style=\"text-align: right;\">\n",
       "      <th></th>\n",
       "      <th>Ship</th>\n",
       "      <th>Coordinates</th>\n",
       "    </tr>\n",
       "  </thead>\n",
       "  <tbody>\n",
       "    <tr>\n",
       "      <th>0</th>\n",
       "      <td>Black Assarca shipwreck</td>\n",
       "      <td>None</td>\n",
       "    </tr>\n",
       "    <tr>\n",
       "      <th>1</th>\n",
       "      <td>Globe Star</td>\n",
       "      <td>4°04′54″S 39°43′12″E</td>\n",
       "    </tr>\n",
       "    <tr>\n",
       "      <th>2</th>\n",
       "      <td>Gulland</td>\n",
       "      <td>04°02′50″S 39°43′57″E</td>\n",
       "    </tr>\n",
       "    <tr>\n",
       "      <th>3</th>\n",
       "      <td>Mtongwe</td>\n",
       "      <td>None</td>\n",
       "    </tr>\n",
       "    <tr>\n",
       "      <th>4</th>\n",
       "      <td>Katina P</td>\n",
       "      <td>25°35′S 32°59′E</td>\n",
       "    </tr>\n",
       "    <tr>\n",
       "      <th>...</th>\n",
       "      <td>...</td>\n",
       "      <td>...</td>\n",
       "    </tr>\n",
       "    <tr>\n",
       "      <th>3723</th>\n",
       "      <td>Sovereign of the Seas</td>\n",
       "      <td>None</td>\n",
       "    </tr>\n",
       "    <tr>\n",
       "      <th>3724</th>\n",
       "      <td>Takao</td>\n",
       "      <td>03°05′05″N 100°41′00″E</td>\n",
       "    </tr>\n",
       "    <tr>\n",
       "      <th>3725</th>\n",
       "      <td>U-181</td>\n",
       "      <td>3°05′50″N 100°42′50″E</td>\n",
       "    </tr>\n",
       "    <tr>\n",
       "      <th>3726</th>\n",
       "      <td>U-859</td>\n",
       "      <td>5°46′01″N 100°04′01″E</td>\n",
       "    </tr>\n",
       "    <tr>\n",
       "      <th>3727</th>\n",
       "      <td>U-862</td>\n",
       "      <td>3°05′N 100°38′E</td>\n",
       "    </tr>\n",
       "  </tbody>\n",
       "</table>\n",
       "<p>3728 rows × 2 columns</p>\n",
       "</div>"
      ],
      "text/plain": [
       "                         Ship             Coordinates\n",
       "0     Black Assarca shipwreck                    None\n",
       "1                  Globe Star    4°04′54″S 39°43′12″E\n",
       "2                     Gulland   04°02′50″S 39°43′57″E\n",
       "3                     Mtongwe                    None\n",
       "4                    Katina P         25°35′S 32°59′E\n",
       "...                       ...                     ...\n",
       "3723    Sovereign of the Seas                    None\n",
       "3724                    Takao  03°05′05″N 100°41′00″E\n",
       "3725                    U-181   3°05′50″N 100°42′50″E\n",
       "3726                    U-859   5°46′01″N 100°04′01″E\n",
       "3727                    U-862         3°05′N 100°38′E\n",
       "\n",
       "[3728 rows x 2 columns]"
      ]
     },
     "execution_count": 4,
     "metadata": {},
     "output_type": "execute_result"
    }
   ],
   "source": [
    "ps.sqldf(\"\"\"SELECT ship_flag.Ship, ship_sunk.Coordinates\n",
    "         FROM ship_flag\n",
    "         INNER JOIN ship_sunk ON ship_flag.Ship = ship_sunk.Ship\"\"\")"
   ]
  },
  {
   "cell_type": "markdown",
   "id": "0fa7f496",
   "metadata": {},
   "source": [
    "## Manipulate data using pandas"
   ]
  },
  {
   "cell_type": "markdown",
   "id": "b44ca9f7",
   "metadata": {},
   "source": [
    "## Plotting data using seaborn"
   ]
  },
  {
   "cell_type": "code",
   "execution_count": null,
   "id": "ceb336b6",
   "metadata": {},
   "outputs": [],
   "source": []
  },
  {
   "cell_type": "code",
   "execution_count": null,
   "id": "1efbcb97",
   "metadata": {},
   "outputs": [],
   "source": []
  }
 ],
 "metadata": {
  "kernelspec": {
   "display_name": "Python 3",
   "language": "python",
   "name": "python3"
  },
  "language_info": {
   "codemirror_mode": {
    "name": "ipython",
    "version": 3
   },
   "file_extension": ".py",
   "mimetype": "text/x-python",
   "name": "python",
   "nbconvert_exporter": "python",
   "pygments_lexer": "ipython3",
   "version": "3.8.8"
  }
 },
 "nbformat": 4,
 "nbformat_minor": 5
}
