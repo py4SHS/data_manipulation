{
 "cells": [
  {
   "cell_type": "markdown",
   "id": "c4e8b472-cce5-42b6-9787-cd09efd8ed48",
   "metadata": {},
   "source": [
    "# Manipulate data using pandas"
   ]
  },
  {
   "cell_type": "markdown",
   "id": "bc468d9f-c6c7-4795-902f-b29f535389d6",
   "metadata": {},
   "source": [
    "## Import packages"
   ]
  },
  {
   "cell_type": "code",
   "execution_count": 169,
   "id": "79f5c8c2-3cd4-41d4-9a8d-0f090833e6e4",
   "metadata": {},
   "outputs": [],
   "source": [
    "import pandas as pd\n",
    "import seaborn as sns"
   ]
  },
  {
   "cell_type": "markdown",
   "id": "8eb72ac4-7a8c-4439-962b-ccfefb5a5776",
   "metadata": {},
   "source": [
    "## Loading datasets\n",
    "\n",
    "Pandas is able to load data from a wide range of format:\n",
    "- From RAM using dictionaries\n",
    "- From CSV files using `read_csv`\n",
    "- From XML files using `read_xml`\n",
    "- From HTML files using `read_html`\n",
    "..."
   ]
  },
  {
   "cell_type": "code",
   "execution_count": 305,
   "id": "92722734-3b89-442d-a18b-fc60839478c0",
   "metadata": {},
   "outputs": [],
   "source": [
    "ship_flag = pd.read_csv(\"data/ship_flag.csv\")\n",
    "ship_sunk = pd.read_csv(\"data/ship_sunk.csv\")"
   ]
  },
  {
   "cell_type": "code",
   "execution_count": 320,
   "id": "257a264e-33fc-47b3-aaea-e66d112d26ea",
   "metadata": {},
   "outputs": [],
   "source": [
    "# Load data from CSV\n",
    "df = pd.read_csv(\"data/ship_flag.csv\")\n",
    "\n",
    "# Load data from RAM\n",
    "df = pd.DataFrame({\"column_1\": [1, 2, 3], \"column_2\": [2, 3, 1], \"column_3\": [\"value_1\", \"value_2\", \"value_2\"]}, index=[\"index_1\", \"index_2\", \"index_3\"])"
   ]
  },
  {
   "cell_type": "markdown",
   "id": "f0dc5633-9e51-4a07-8371-c64748ba1366",
   "metadata": {},
   "source": [
    "**Exercice**: Load the two datasets in `data/ship_flag.csv` and in `data/ship_sunk.csv` and store them in the variable `ship_flag` and `ship_sunk`."
   ]
  },
  {
   "cell_type": "markdown",
   "id": "86d2e6b2-337f-4153-ab92-12ca5aedbee3",
   "metadata": {},
   "source": [
    "## Analyzing data\n",
    "\n",
    "### Columns and indexes\n",
    "The columns and the index can be accessed as attributes, as a class `Index`."
   ]
  },
  {
   "cell_type": "code",
   "execution_count": 47,
   "id": "6b2e22df-286e-4ff3-8c2c-db736849f3e2",
   "metadata": {},
   "outputs": [
    {
     "name": "stdout",
     "output_type": "stream",
     "text": [
      "Index(['column_1', 'column_2', 'column_3'], dtype='object')\n",
      "Index(['index_1', 'index_2', 'index_3'], dtype='object')\n"
     ]
    }
   ],
   "source": [
    "# Access the columns\n",
    "print(df.columns)\n",
    "\n",
    "# Access the index\n",
    "print(df.index)"
   ]
  },
  {
   "cell_type": "markdown",
   "id": "b314102d-5754-49a6-8050-62da64960e48",
   "metadata": {},
   "source": [
    "Indexes can be set using the method `set_index`."
   ]
  },
  {
   "cell_type": "code",
   "execution_count": 48,
   "id": "a5173449-377c-4dd0-a0a5-a844ea131a47",
   "metadata": {},
   "outputs": [
    {
     "data": {
      "text/html": [
       "<div>\n",
       "<style scoped>\n",
       "    .dataframe tbody tr th:only-of-type {\n",
       "        vertical-align: middle;\n",
       "    }\n",
       "\n",
       "    .dataframe tbody tr th {\n",
       "        vertical-align: top;\n",
       "    }\n",
       "\n",
       "    .dataframe thead th {\n",
       "        text-align: right;\n",
       "    }\n",
       "</style>\n",
       "<table border=\"1\" class=\"dataframe\">\n",
       "  <thead>\n",
       "    <tr style=\"text-align: right;\">\n",
       "      <th></th>\n",
       "      <th>column_2</th>\n",
       "      <th>column_3</th>\n",
       "    </tr>\n",
       "    <tr>\n",
       "      <th>column_1</th>\n",
       "      <th></th>\n",
       "      <th></th>\n",
       "    </tr>\n",
       "  </thead>\n",
       "  <tbody>\n",
       "    <tr>\n",
       "      <th>1</th>\n",
       "      <td>2</td>\n",
       "      <td>value_1</td>\n",
       "    </tr>\n",
       "    <tr>\n",
       "      <th>3</th>\n",
       "      <td>3</td>\n",
       "      <td>value_2</td>\n",
       "    </tr>\n",
       "    <tr>\n",
       "      <th>1</th>\n",
       "      <td>1</td>\n",
       "      <td>value_2</td>\n",
       "    </tr>\n",
       "  </tbody>\n",
       "</table>\n",
       "</div>"
      ],
      "text/plain": [
       "          column_2 column_3\n",
       "column_1                   \n",
       "1                2  value_1\n",
       "3                3  value_2\n",
       "1                1  value_2"
      ]
     },
     "execution_count": 48,
     "metadata": {},
     "output_type": "execute_result"
    }
   ],
   "source": [
    "df.set_index(\"column_1\")"
   ]
  },
  {
   "cell_type": "markdown",
   "id": "ad0bc4b6-0b91-4cb3-b844-c959ab42e38f",
   "metadata": {},
   "source": [
    "**Exercice**: \n",
    "1. Print the columns and the indexes of the two dataframes in `ship_flag` and in `ship_flunk`.\n",
    "2. Set the ship name as the index for the two dataframes `ship_flag` and `ship_sunk`.\n",
    "3. Using the method `shape` give the number of rows and columns in each dataframe."
   ]
  },
  {
   "cell_type": "markdown",
   "id": "baac7e88-16e7-478a-ac35-46bcdcf9d746",
   "metadata": {},
   "source": [
    "### Accessing columns and rows\n",
    "\n",
    "One of the strength of pandas is the **easy manipulation of data**.\n",
    "\n",
    "On a row basis, data can be accessed by row index or by location."
   ]
  },
  {
   "cell_type": "code",
   "execution_count": 49,
   "id": "587124e1-2a59-45a4-be9e-2aea68226b07",
   "metadata": {},
   "outputs": [
    {
     "data": {
      "text/plain": [
       "column_1          1\n",
       "column_2          2\n",
       "column_3    value_1\n",
       "Name: index_1, dtype: object"
      ]
     },
     "execution_count": 49,
     "metadata": {},
     "output_type": "execute_result"
    }
   ],
   "source": [
    "# First row by index range\n",
    "df.iloc[0]\n",
    "# Also first row by index name\n",
    "df.loc[\"index_1\"]"
   ]
  },
  {
   "cell_type": "markdown",
   "id": "9eccf289-c7ba-4eb2-8594-da54bd2acdff",
   "metadata": {},
   "source": [
    "Columns can be accessed by name."
   ]
  },
  {
   "cell_type": "code",
   "execution_count": 50,
   "id": "adbad4e3-fc48-4002-89d9-b2abe8f0d61a",
   "metadata": {},
   "outputs": [
    {
     "name": "stdout",
     "output_type": "stream",
     "text": [
      "1\n"
     ]
    }
   ],
   "source": [
    "# Access as a series \n",
    "df[\"column_1\"]\n",
    "# Access several columns at the same time\n",
    "df[[\"column_1\", \"column_2\"]]\n",
    "# Access using both rows and column index\n",
    "print(df.loc[\"index_1\", 'column_1'])"
   ]
  },
  {
   "cell_type": "markdown",
   "id": "77e08b8f-6fd6-4fd6-90e2-79dd2a7a4daf",
   "metadata": {},
   "source": [
    "Data can be filtered using boolean filters, based on conditions."
   ]
  },
  {
   "cell_type": "code",
   "execution_count": 51,
   "id": "7067aa21-7cf8-4092-b9ff-475cc284be44",
   "metadata": {},
   "outputs": [
    {
     "data": {
      "text/plain": [
       "Series([], Name: column_1, dtype: int64)"
      ]
     },
     "execution_count": 51,
     "metadata": {},
     "output_type": "execute_result"
    }
   ],
   "source": [
    "# Filter on the serie\n",
    "df.column_1[df.column_1 > 1]\n",
    "\n",
    "# Filter on the dataframe\n",
    "df[df.column_3 == \"value_1\"]\n",
    "\n",
    "# Group conditions\n",
    "df.column_1[(df.column_1 > 1) & (2 > df.column_2)]"
   ]
  },
  {
   "cell_type": "markdown",
   "id": "691a86f7-814b-43b5-bc65-33b6875cff94",
   "metadata": {},
   "source": [
    "**Exercice**:\n",
    "1. Extract the columns `Flag` from the dataframe `ship_flag`.\n",
    "2. List all the sunk ships flying the United States flag.\n",
    "3. Using the dataframe `ship_sunk`, return the year the `Globe Star` ship was sunk.\n",
    "5. **Bonus**: return all the name of the ships that start with an M."
   ]
  },
  {
   "cell_type": "markdown",
   "id": "6015189a-5ec1-434f-939a-b83a85fb958d",
   "metadata": {},
   "source": [
    "### Statistics and aggregation\n",
    "Statistics can be easily computed using pandas. The method `describe` provides all standard estimators (on **quantitative** data), which can also be computed separately using the corresponding method."
   ]
  },
  {
   "cell_type": "code",
   "execution_count": 41,
   "id": "cff9eb11-d9bf-426f-84a6-3758fa6905d4",
   "metadata": {},
   "outputs": [
    {
     "data": {
      "text/plain": [
       "2.0"
      ]
     },
     "execution_count": 41,
     "metadata": {},
     "output_type": "execute_result"
    }
   ],
   "source": [
    "df.describe()\n",
    "df.column_1.mean()"
   ]
  },
  {
   "cell_type": "markdown",
   "id": "eb03d47a-1e12-439e-ae0c-5f4c90b2ad76",
   "metadata": {},
   "source": [
    "For **categorical** data, you should use `value_counts`. You can access"
   ]
  },
  {
   "cell_type": "code",
   "execution_count": 220,
   "id": "40d8b7ac-8f28-4a8f-bfd6-7f7f20ae5137",
   "metadata": {},
   "outputs": [
    {
     "data": {
      "text/plain": [
       "array(['value_1', 'value_2'], dtype=object)"
      ]
     },
     "execution_count": 220,
     "metadata": {},
     "output_type": "execute_result"
    }
   ],
   "source": [
    "df.column_3.unique()"
   ]
  },
  {
   "cell_type": "code",
   "execution_count": 42,
   "id": "21469e1e-6bc2-4151-8eac-7b4d00640f38",
   "metadata": {},
   "outputs": [
    {
     "data": {
      "text/plain": [
       "column_3\n",
       "value_1    1\n",
       "value_2    1\n",
       "Name: count, dtype: int64"
      ]
     },
     "execution_count": 42,
     "metadata": {},
     "output_type": "execute_result"
    }
   ],
   "source": [
    "df.column_3.value_counts()"
   ]
  },
  {
   "cell_type": "markdown",
   "id": "19142d15-94bd-4a5d-a37a-522c08eb90d4",
   "metadata": {},
   "source": [
    "Data can be grouped on a per column basis to compute the statistics."
   ]
  },
  {
   "cell_type": "code",
   "execution_count": 81,
   "id": "551c0615-44c6-4b2f-8a9c-4bb8928697f7",
   "metadata": {},
   "outputs": [
    {
     "data": {
      "text/html": [
       "<div>\n",
       "<style scoped>\n",
       "    .dataframe tbody tr th:only-of-type {\n",
       "        vertical-align: middle;\n",
       "    }\n",
       "\n",
       "    .dataframe tbody tr th {\n",
       "        vertical-align: top;\n",
       "    }\n",
       "\n",
       "    .dataframe thead th {\n",
       "        text-align: right;\n",
       "    }\n",
       "</style>\n",
       "<table border=\"1\" class=\"dataframe\">\n",
       "  <thead>\n",
       "    <tr style=\"text-align: right;\">\n",
       "      <th></th>\n",
       "      <th>column_1</th>\n",
       "      <th>column_2</th>\n",
       "    </tr>\n",
       "    <tr>\n",
       "      <th>column_3</th>\n",
       "      <th></th>\n",
       "      <th></th>\n",
       "    </tr>\n",
       "  </thead>\n",
       "  <tbody>\n",
       "    <tr>\n",
       "      <th>value_1</th>\n",
       "      <td>1.0</td>\n",
       "      <td>2.0</td>\n",
       "    </tr>\n",
       "    <tr>\n",
       "      <th>value_2</th>\n",
       "      <td>2.0</td>\n",
       "      <td>2.0</td>\n",
       "    </tr>\n",
       "  </tbody>\n",
       "</table>\n",
       "</div>"
      ],
      "text/plain": [
       "          column_1  column_2\n",
       "column_3                    \n",
       "value_1        1.0       2.0\n",
       "value_2        2.0       2.0"
      ]
     },
     "execution_count": 81,
     "metadata": {},
     "output_type": "execute_result"
    }
   ],
   "source": [
    "df.groupby([\"column_3\"]).mean()"
   ]
  },
  {
   "cell_type": "markdown",
   "id": "58d6fcf5-d6b8-469b-93c4-edbb42e190a4",
   "metadata": {},
   "source": [
    "**Exercice**:\n",
    "1. Give the number of distinct flags.\n",
    "2. Provide the number of ship sunk by flag. Which is the flag with the highest count of sunk ship ?\n",
    "3. Give the number of ship sunk after 1900. "
   ]
  },
  {
   "cell_type": "markdown",
   "id": "19ae4330-a8fa-40d3-be11-5a1dd1735ae8",
   "metadata": {},
   "source": [
    "### Merging datasets\n",
    "Often, our data needs to be merged to combine information within several datasets."
   ]
  },
  {
   "cell_type": "code",
   "execution_count": 322,
   "id": "0c02901a-6907-488e-87ae-1fd795f769ab",
   "metadata": {},
   "outputs": [],
   "source": [
    "# Create additional data to be merged\n",
    "df_1 = pd.DataFrame({\"column_1\": [1, 2, 3], \"column_4\": [1, 3, 1]}, index=[\"index_1\", \"index_2\", \"index_3\"])\n",
    "\n",
    "# Merge based on a common column\n",
    "merged_data = pd.merge(df, df_1, on='column_1')\n",
    "\n",
    "# Different types of joins\n",
    "merged_inner = pd.merge(df, df_1, on='column_1', how='inner')\n",
    "merged_left = pd.merge(df, df_1, on='column_1', how='left')\n",
    "merged_right = pd.merge(df, df_1, on='column_1', how='right')\n",
    "merged_outer = pd.merge(df, df_1, on='column_1', how='outer')\n",
    "\n",
    "# Merge on index\n",
    "merged_on_indices = pd.merge(df, df_1, left_index=True, right_index=True)\n"
   ]
  },
  {
   "cell_type": "markdown",
   "id": "3abbb97a-0b6a-44ae-9f19-122844f61044",
   "metadata": {},
   "source": [
    "**Exercice**:\n",
    "1. For each of the merges, print the result and understand it.\n",
    "2. Perform two different merges on the dataset `ship_flag` and `ship_sunk` on the Ship column:\n",
    "    1. Keeping only ships with a sunk year\n",
    "    2. Keeping all data"
   ]
  },
  {
   "cell_type": "markdown",
   "id": "40ea4066-052c-476b-8ff4-2a3998e81233",
   "metadata": {},
   "source": [
    "## Data vizualization using seaborn\n",
    "The standard Python library for plotting is `matplotlib`, and seaborn is a wrapper around it that enables easy integration with pandas dataframe.\n",
    "\n",
    "Most plots are integrated within the library, using the following syntax:\n",
    "- x: Value of x axis\n",
    "- y: Value of y axis\n",
    "- data: pandas DataFrame"
   ]
  },
  {
   "cell_type": "code",
   "execution_count": 306,
   "id": "791bc3a6-f97d-4007-b844-df72a6caf703",
   "metadata": {},
   "outputs": [
    {
     "data": {
      "text/plain": [
       "[Text(0, 0, 'value_1'), Text(1, 0, 'value_2')]"
      ]
     },
     "execution_count": 306,
     "metadata": {},
     "output_type": "execute_result"
    },
    {
     "data": {
      "image/png": "[encoded data removed]",
      "text/plain": [
       "<Figure size 640x480 with 1 Axes>"
      ]
     },
     "metadata": {},
     "output_type": "display_data"
    }
   ],
   "source": [
    "# Create a count plot with the proper x and y title\n",
    "g = sns.countplot(x=\"column_3\", data=df)\n",
    "g.set_xlabel(\"Column 3\")\n",
    "g.set_ylabel(\"Count\")\n",
    "g.set_title(\"Count plot of values in column 3\")\n",
    "\n",
    "# Rotate x labels (is handy when you have a lot of x data)\n",
    "g.set_xticklabels(g.get_xticklabels(), rotation=30)"
   ]
  },
  {
   "cell_type": "code",
   "execution_count": 307,
   "id": "9123b2df-e699-4fbb-8412-50d38cf17826",
   "metadata": {},
   "outputs": [
    {
     "data": {
      "text/plain": [
       "Text(0.5, 1.0, 'Scatter plot of column 1 and column 2')"
      ]
     },
     "execution_count": 307,
     "metadata": {},
     "output_type": "execute_result"
    },
    {
     "data": {
      "image/png": "[encoded data removed]",
      "text/plain": [
       "<Figure size 640x480 with 1 Axes>"
      ]
     },
     "metadata": {},
     "output_type": "display_data"
    }
   ],
   "source": [
    "# Create a scatter plot\n",
    "g = sns.scatterplot(x=\"column_1\", y=\"column_2\", data=df)\n",
    "g.set_xlabel(\"Column 1\")\n",
    "g.set_ylabel(\"Column 2\")\n",
    "g.set_title(\"Scatter plot of column 1 and column 2\")"
   ]
  },
  {
   "cell_type": "markdown",
   "id": "e9592ca9-526a-443b-8055-e971496d8865",
   "metadata": {},
   "source": [
    "**Exercice**:\n",
    "1. Plot for the 10 flags with the highest count of wrecks the number of ship wrecks.\n",
    "2. Plot per year in the 21th century the number of shipwrecks."
   ]
  }
 ],
 "metadata": {
  "kernelspec": {
   "display_name": "Python 3 (ipykernel)",
   "language": "python",
   "name": "python3"
  },
  "language_info": {
   "codemirror_mode": {
    "name": "ipython",
    "version": 3
   },
   "file_extension": ".py",
   "mimetype": "text/x-python",
   "name": "python",
   "nbconvert_exporter": "python",
   "pygments_lexer": "ipython3",
   "version": "3.9.6"
  }
 },
 "nbformat": 4,
 "nbformat_minor": 5
}
